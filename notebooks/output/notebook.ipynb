
{
 "cells": [
  {
   "cell_type": "markdown",
   "metadata": {},
   "source": [
    "# Ad Campaign Performance Visualization\n",
    "\n",
    "## Introduction\n",
    "\n",
    "This dataset contains information about various ad campaigns, including demographic data, ad impressions, clicks, and conversion metrics. The key variables in this dataset include 'ad_id', 'xyz_campaign_id', 'fb_campaign_id', 'Impressions', 'Clicks', 'Spent', 'Total_Conversion', and 'Approved_Conversion'. These variables are crucial for analyzing the performance of ad campaigns.\n",
    "\n",
    "In this notebook, we will visualize several insights based on this dataset to better understand the performance and effectiveness of different ad campaigns."
   ]
  },
  {
   "cell_type": "code",
   "execution_count": 1,
   "metadata": {},
   "outputs": [],
   "source": [
    "# Setup\n",
    "import pandas as pd\n",
    "import matplotlib.pyplot as plt\n",
    "import seaborn as sns\n",
    "\n",
    "# Load the dataset\n",
    "file_path = '/Users/umermansoor/Documents/GitHub/infini8/notebooks/data/KAG_conversion_data.csv'\n",
    "data = pd.read_csv(file_path)\n",
    "data.head()"
   ]
  },
  {
   "cell_type": "markdown",
   "metadata": {},
   "source": [
    "## Insight #1: Distribution of Impressions across Interest Scores\n",
    "\n",
    "Understanding the distribution of ad impressions can help identify the reach of different campaigns across different interest scores. We'll plot a histogram to visualize the distribution of impressions across interest scores."
   ]
  },
  {
   "cell_type": "code",
   "execution_count": 2,
   "metadata": {},
   "outputs": [],
   "source": [
    "# Corrected Insight #1: Distribution of Impressions across Interest Scores\n",
    "plt.figure(figsize=(10, 6))\n",
    "sns.histplot(data=data, x='interest', weights='Impressions', bins=30, kde=True)\n",
    "plt.title('Distribution of Impressions across Interest Scores')\n",
    "plt.xlabel('Interest Score')\n",
    "plt.ylabel('Number of Impressions')\n",
    "plt.show()"
   ]
  },
  {
   "cell_type": "markdown",
   "metadata": {},
   "source": [
    "## Insight #2: Click-Through Rate (CTR) by Age Group for Each Campaign\n",
    "\n",
    "Clicks are an important metric to gauge user interest. Here, we will visualize the Click-Through Rate (CTR) across different age groups for each campaign."
   ]
  },
  {
   "cell_type": "code",
   "execution_count": 3,
   "metadata": {},
   "outputs": [],
   "source": [
    "# Corrected Insight #2: Click-Through Rate (CTR) by Age Group for Each Campaign\n",
    "data['CTR'] = (data['Clicks'] / data['Impressions']) * 100\n",
    "ctr_data = data.groupby(['age', 'xyz_campaign_id'])['CTR'].mean().reset_index()\n",
    "\n",
    "plt.figure(figsize=(10, 6))\n",
    "sns.barplot(x='age', y='CTR', hue='xyz_campaign_id', data=ctr_data)\n",
    "plt.title('Click-Through Rate (CTR) by Age Group and Campaign')\n",
    "plt.xlabel('Age Group')\n",
    "plt.ylabel('Click-Through Rate (CTR)')\n",
    "plt.legend(title='Campaign ID')\n",
    "plt.show()"
   ]
  },
  {
   "cell_type": "markdown",
   "metadata": {},
   "source": [
    "## Insight #3: Amount Spent vs. Approved Conversions\n",
    "\n",
    "To understand the cost-effectiveness of the ad campaigns, we will plot the relationship between the amount spent and approved conversions."
   ]
  },
  {
   "cell_type": "code",
   "execution_count": 4,
   "metadata": {},
   "outputs": [],
   "source": [
    "# Corrected Insight #3: Amount Spent vs. Approved Conversions\n",
    "plt.figure(figsize=(10, 6))\n",
    "sns.scatterplot(x='Spent', y='Approved_Conversion', data=data)\n",
    "plt.title('Amount Spent vs. Approved Conversions')\n",
    "plt.xlabel('Amount Spent')\n",
    "plt.ylabel('Approved Conversions')\n",
    "plt.show()"
   ]
  },
  {
   "cell_type": "markdown",
   "metadata": {},
   "source": [
    "## Insight #4: Conversion Rates by Gender and Age Group\n",
    "\n",
    "Approved conversions are a crucial metric for campaign success. We'll visualize the conversion rates across different genders within each age group."
   ]
  },
  {
   "cell_type": "code",
   "execution_count": 5,
   "metadata": {},
   "outputs": [],
   "source": [
    "# Corrected Insight #4: Conversion Rates by Gender and Age Group\n",
    "data['Conversion_Rate'] = (data['Total_Conversion'] / data['Impressions']) * 100\n",
    "conversion_rate_data = data.groupby(['age', 'gender'])['Conversion_Rate'].mean().reset_index()\n",
    "\n",
    "plt.figure(figsize=(10, 6))\n",
    "sns.barplot(x='age', y='Conversion_Rate', hue='gender', data=conversion_rate_data)\n",
    "plt.title('Conversion Rate by Gender and Age Group')\n",
    "plt.xlabel('Age Group')\n",
    "plt.ylabel('Conversion Rate (%)')\n",
    "plt.legend(title='Gender')\n",
    "plt.show()"
   ]
  }
 ],
 "metadata": {
  "kernelspec": {
   "display_name": "Python 3",
   "language": "python",
   "name": "python3"
  },
  "language_info": {
   "codemirror_mode": {
    "name": "ipython",
    "version": 3
   },
   "file_extension": ".py",
   "mimetype": "text/x-python",
   "name": "python",
   "nbconvert_exporter": "python",
   "pygments_lexer": "ipython3",
   "version": "3.8.5"
  }
 },
 "nbformat": 4,
 "nbformat_minor": 4
}

{
 "cells": [
  {
   "cell_type": "markdown",
   "metadata": {},
   "source": [
    "# Ad Campaign Performance Visualization\n",
    "\n",
    "## Introduction\n",
    "This dataset, named **Ad_Campaign_Performance**, contains performance metrics for various ad campaigns including impressions, clicks, and conversions. Key predictor variables include Impressions, Clicks, and Spent. Target variables are Total_Conversion and Approved_Conversion. The dataset provides insights into how different ad campaigns perform across various demographics.\n",
    "\n",
    "In this notebook, we will visualize several insights derived from this dataset to better understand the performance metrics and trends.\n"
   ]
  },
  {
   "cell_type": "code",
   "execution_count": null,
   "metadata": {},
   "outputs": [],
   "source": [
    "# Setup\n",
    "import pandas as pd\n",
    "import matplotlib.pyplot as plt\n",
    "import seaborn as sns\n",
    "\n",
    "# Load the dataset\n",
    "file_path = '/Users/umermansoor/Documents/GitHub/infini8/notebooks/data/KAG_conversion_data.csv'\n",
    "data = pd.read_csv(file_path)\n",
    "\n",
    "# Display the first few rows of the dataset\n",
    "data.head()"
   ]
  },
  {
   "cell_type": "markdown",
   "metadata": {},
   "source": [
    "## Insight #1: Which age group generates the highest number of total conversions?\n",
    "A bar chart will highlight which age group is most effective in terms of total conversions, helping to tailor future ad campaigns to the most responsive age groups."
   ]
  },
  {
   "cell_type": "code",
   "execution_count": null,
   "metadata": {},
   "outputs": [],
   "source": [
    "# Insight #1: Total Conversions by Age Group\n",
    "total_conversions_by_age = data.groupby('age')['Total_Conversion'].sum().reset_index()\n",
    "plt.figure(figsize=(10, 6))\n",
    "sns.barplot(x='age', y='Total_Conversion', data=total_conversions_by_age, palette='viridis')\n",
    "plt.title('Total Conversions by Age Group')\n",
    "plt.xlabel('Age Group')\n",
    "plt.ylabel('Total Conversions')\n",
    "plt.grid(True)\n",
    "plt.show()"
   ]
  },
  {
   "cell_type": "markdown",
   "metadata": {},
   "source": [
    "## Insight #2: How does spending correlate with total conversions?\n",
    "A scatter plot will show the relationship between the money spent on ads and the total conversions, indicating the efficiency of spending."
   ]
  },
  {
   "cell_type": "code",
   "execution_count": null,
   "metadata": {},
   "outputs": [],
   "source": [
    "# Insight #2: Relationship between Amount Spent and Total Conversions\n",
    "plt.figure(figsize=(10, 6))\n",
    "sns.scatterplot(x='Spent', y='Total_Conversion', data=data, alpha=0.6)\n",
    "plt.title('Relationship between Amount Spent and Total Conversions')\n",
    "plt.xlabel('Amount Spent')\n",
    "plt.ylabel('Total Conversions')\n",
    "plt.grid(True)\n",
    "plt.show()"
   ]
  },
  {
   "cell_type": "markdown",
   "metadata": {},
   "source": [
    "## Insight #3: What is the click-through rate (CTR) across different interest levels?\n",
    "A line chart will display how the click-through rate (CTR) varies with the interest score, helping to understand which interest levels are more engaged."
   ]
  },
  {
   "cell_type": "code",
   "execution_count": null,
   "metadata": {},
   "outputs": [],
   "source": [
    "# Insight #3: CTR by Interest Level\n",
    "data['CTR'] = (data['Clicks'] / data['Impressions']) * 100\n",
    "ctr_by_interest = data.groupby('interest')['CTR'].mean().reset_index()\n",
    "plt.figure(figsize=(10, 6))\n",
    "sns.lineplot(x='interest', y='CTR', data=ctr_by_interest, marker='o')\n",
    "plt.title('Click-Through Rate (CTR) by Interest Level')\n",
    "plt.xlabel('Interest Level')\n",
    "plt.ylabel('CTR (%)')\n",
    "plt.grid(True)\n",
    "plt.show()"
   ]
  },
  {
   "cell_type": "markdown",
   "metadata": {},
   "source": [
    "## Insight #4: Which campaigns have the highest approved conversion rate?\n",
    "A bar chart will show which campaigns have the highest approved conversion rate, helping to identify the most successful campaigns."
   ]
  },
  {
   "cell_type": "code",
   "execution_count": null,
   "metadata": {},
   "outputs": [],
   "source": [
    "# Insight #4: Approved Conversion Rate by Campaign\n",
    "data['Approved_Conversion_Rate'] = data['Approved_Conversion'] / data['Total_Conversion']\n",
    "approved_conversion_rate_by_campaign = data.groupby('xyz_campaign_id')['Approved_Conversion_Rate'].mean().reset_index()\n",
    "plt.figure(figsize={10, 6})\n",
    "sns.barplot(x='xyz_campaign_id', y='Approved_Conversion_Rate', data=approved_conversion_rate_by_campaign, palette='viridis')\n",
    "plt.title('Approved Conversion Rate by Campaign')\n",
    "plt.xlabel('Campaign ID')\n",
    "plt.ylabel('Approved Conversion Rate')\n",
    "plt.grid(True)\n",
    "plt.show()"
   ]
  },
  {
   "cell_type": "markdown",
   "metadata": {},
   "source": [
    "## Insight #5: How do impressions and clicks distribute across different age groups and genders?\n",
    "A heatmap will show the distribution of impressions and clicks across different age groups and genders, providing insights into which demographics are most engaged."
   ]
  },
  {
   "cell_type": "code",
   "execution_count": null,
   "metadata": {},
   "outputs": [],
   "source": [
    "# Insight #5: Heatmap of Impressions and Clicks by Age Group and Gender\n",
    "impressions_clicks_by_age_gender = data.groupby(['age', 'gender'])[['Impressions', 'Clicks']].sum().unstack()\n",
    "plt.figure(figsize=(14, 8))\n",
    "sns.heatmap(impressions_clicks_by_age_gender['Impressions'], annot=True, fmt='.0f', cmap='Blues')\n",
    "plt.title('Heatmap of Impressions by Age Group and Gender')\n",
    "plt.xlabel('Gender')\n",
    "plt.ylabel('Age Group')\n",
    "plt.show()\n",
    "\n",
    "plt.figure(figsize=(14, 8))\n",
    "sns.heatmap(impressions_clicks_by_age_gender['Clicks'], annot=True, fmt='.0f', cmap='Reds')\n",
    "plt.title('Heatmap of Clicks by Age Group and Gender')\n",
    "plt.xlabel('Gender')\n",
    "plt.ylabel('Age Group')\n",
    "plt.show()"
   ]
  }
 ],
 "metadata": {
  "kernelspec": {
   "display_name": "Python 3",
   "language": "python",
   "name": "python3"
  },
  "language_info": {
   "codemirror_mode": {
    "name": "ipython",
    "version": 3
   },
   "file_extension": ".py",
   "mimetype": "text/x-python",
   "name": "python",
   "nbconvert_exporter": "python",
   "pygments_lexer": "ipython3",
   "version": "3.8.5"
  }
 },
 "nbformat": 4,
 "nbformat_minor": 4
}
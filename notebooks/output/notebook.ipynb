json
{
 "cells": [
  {
   "cell_type": "markdown",
   "metadata": {},
   "source": [
    "# Ad Campaign Performance Visualization\n",
    "\n",
    "## Introduction\n",
    "This dataset contains information about various ad campaigns, including their IDs, demographics, and performance metrics. The key variables include 'ad_id', 'Impressions', 'Clicks', 'Spent', 'Total_Conversion', and 'Approved_Conversion'. In this notebook, we will visualize the insights derived from this dataset.\n",
    "\n",
    "### Insights to be Visualized\n",
    "1. Which age group has the highest average number of clicks?\n",
    "2. How does the amount spent on ads correlate with the number of clicks?\n",
    "3. Which interest category has the highest total conversions?\n",
    "4. What is the distribution of approved conversions across different age groups and gender?\n",
    "5. How do different XYZ campaign IDs perform in terms of total conversions?\n"
   ]
  },
  {
   "cell_type": "code",
   "execution_count": 1,
   "metadata": {},
   "outputs": [],
   "source": [
    "# Setup\n",
    "!pip install -qqq pandas matplotlib seaborn\n",
    "import pandas as pd\n",
    "import matplotlib.pyplot as plt\n",
    "import seaborn as sns\n",
    "sns.set(style='whitegrid')\n",
    "\n",
    "# Loading the dataset\n",
    "file_path = '/Users/umermansoor/Documents/GitHub/infini8/notebooks/data/KAG_conversion_data.csv'\n",
    "try:\n",
    "    ad_data = pd.read_csv(file_path)\n",
    "except FileNotFoundError:\n",
    "    print(f'Error: The file at {file_path} was not found.')\n",
    "\n",
    "# Display the first few rows of the dataset\n",
    "ad_data.head()"
   ]
  },
  {
   "cell_type": "markdown",
   "metadata": {},
   "source": [
    "## Insight #1: Which age group has the highest average number of clicks?\n",
    "This bar chart will show which age group is most engaged with the ads by comparing the average number of clicks across different age groups."
   ]
  },
  {
   "cell_type": "code",
   "execution_count": 2,
   "metadata": {},
   "outputs": [],
   "source": [
    "# Insight #1: Average Clicks by Age Group\n",
    "age_group_clicks = ad_data.groupby('age')['Clicks'].mean().reset_index()\n",
    "\n",
    "plt.figure(figsize=(10, 6))\n",
    "sns.barplot(x='age', y='Clicks', data=age_group_clicks, palette='viridis')\n",
    "plt.title('Average Clicks by Age Group')\n",
    "plt.xlabel('Age Group')\n",
    "plt.ylabel('Average Clicks')\n",
    "plt.grid(True)\n",
    "plt.show()\n",
    "\n",
    "# Display the number of data points per age group as secondary information\n",
    "age_group_counts = ad_data['age'].value_counts().reset_index()\n",
    "age_group_counts.columns = ['age', 'count']\n",
    "age_group_counts"
   ]
  },
  {
   "cell_type": "markdown",
   "metadata": {},
   "source": [
    "## Insight #2: How does the amount spent on ads correlate with the number of clicks?\n",
    "This scatter plot will help identify if there is a strong correlation between the amount spent on ads and the number of clicks received."
   ]
  },
  {
   "cell_type": "code",
   "execution_count": 3,
   "metadata": {},
   "outputs": [],
   "source": [
    "# Insight #2: Correlation between Spent and Clicks\n",
    "plt.figure(figsize=(10, 6))\n",
    "sns.scatterplot(x='Spent', y='Clicks', data=ad_data, color='blue', alpha=0.6)\n",
    "plt.title('Correlation between Amount Spent and Clicks')\n",
    "plt.xlabel('Spent (USD)')\n",
    "plt.ylabel('Clicks')\n",
    "plt.grid(True)\n",
    "plt.show()\n",
    "\n",
    "# Consider using a logarithmic scale if needed\n",
    "plt.figure(figsize=(10, 6))\n",
    "sns.scatterplot(x='Spent', y='Clicks', data=ad_data, color='blue', alpha=0.6)\n",
    "plt.xscale('log')\n",
    "plt.yscale('log')\n",
    "plt.title('Correlation between Amount Spent and Clicks (Log Scale)')\n",
    "plt.xlabel('Spent (USD) [Log Scale]')\n",
    "plt.ylabel('Clicks [Log Scale]')\n",
    "plt.grid(True, which='both', linestyle='--', linewidth=0.5)\n",
    "plt.show()"
   ]
  },
  {
   "cell_type": "markdown",
   "metadata": {},
   "source": [
    "## Insight #3: Which interest category has the highest total conversions?\n",
    "This bar chart will show which interest categories are generating the most conversions, helping to identify the most effective targeting criteria."
   ]
  },
  {
   "cell_type": "code",
   "execution_count": 4,
   "metadata": {},
   "outputs": [],
   "source": [
    "# Insight #3: Total Conversions by Interest Category\n",
    "interest_conversions = ad_data.groupby('interest')['Total_Conversion'].sum().reset_index()\n",
    "\n",
    "plt.figure(figsize=(12, 8))\n",
    "sns.barplot(x='interest', y='Total_Conversion', data=interest_conversions, palette='viridis')\n",
    "plt.title('Total Conversions by Interest Category')\n",
    "plt.xlabel('Interest Category')\n",
    "plt.ylabel('Total Conversions')\n",
    "plt.xticks(rotation=90)\n",
    "plt.grid(True)\n",
    "plt.show()\n",
    "\n",
    "# Display the number of data points per interest category as secondary information\n",
    "interest_counts = ad_data['interest'].value_counts().reset_index()\n",
    "interest_counts.columns = ['interest', 'count']\n",
    "interest_counts"
   ]
  },
  {
   "cell_type": "markdown",
   "metadata": {},
   "source": [
    "## Insight #4: Distribution of Approved Conversions across Age Groups and Gender\n",
    "This heatmap will show the distribution of approved conversions, providing insights into which combinations of age groups and gender are most effective."
   ]
  },
  {
   "cell_type": "code",
   "execution_count": 5,
   "metadata": {},
   "outputs": [],
   "source": [
    "# Insight #4: Distribution of Approved Conversions by Age Group and Gender\n",
    "age_gender_approved = ad_data.groupby(['age', 'gender'])['Approved_Conversion'].sum().reset_index()\n",
    "age_gender_approved_pivot = age_gender_approved.pivot('gender', 'age', 'Approved_Conversion')\n",
    "\n",
    "plt.figure(figsize=(10, 6))\n",
    "sns.heatmap(age_gender_approved_pivot, annot=True, fmt='.0f', cmap='YlGnBu', linewidths=.5)\n",
    "plt.title('Approved Conversions by Age Group and Gender')\n",
    "plt.xlabel('Age Group')\n",
    "plt.ylabel('Gender')\n",
    "plt.show()"
   ]
  },
  {
   "cell_type": "markdown",
   "metadata": {},
   "source": [
    "## Insight #5: Performance of XYZ Campaign IDs in Terms of Total Conversions\n",
    "This bar chart will compare the performance of different XYZ campaigns by showing the total number of conversions for each campaign ID."
   ]
  },
  {
   "cell_type": "code",
   "execution_count": 6,
   "metadata": {},
   "outputs": [],
   "source": [
    "# Insight #5: Total Conversions by XYZ Campaign ID\n",
    "xyz_campaign_conversions = ad_data.groupby('xyz_campaign_id')['Total_Conversion'].sum().reset_index()\n",
    "\n",
    "plt.figure(figsize=(10, 6))\n",
    "sns.barplot(x='xyz_campaign_id', y='Total_Conversion', data=xyz_campaign_conversions, palette='viridis')\n",
    "plt.title('Total Conversions by XYZ Campaign ID')\n",
    "plt.xlabel('XYZ Campaign ID')\n",
    "plt.ylabel('Total Conversions')\n",
    "plt.grid(True)\n",
    "plt.show()\n",
    "\n",
    "# Display the number of data points per campaign ID as secondary information\n",
    "campaign_id_counts = ad_data['xyz_campaign_id'].value_counts().reset_index()\n",
    "campaign_id_counts.columns = ['xyz_campaign_id', 'count']\n",
    "campaign_id_counts"
   ]
  }
 ],
 "metadata": {
  "kernelspec": {
   "display_name": "Python 3",
   "language": "python",
   "name": "python3"
  },
  "language_info": {
   "codemirror_mode": {
    "name": "ipython",
    "version": 3
   },
   "file_extension": ".py",
   "mimetype": "text/x-python",
   "name": "python",
   "nbconvert_exporter": "python",
   "pygments_lexer": "ipython3",
   "version": "3.8.5"
  }
 },
 "nbformat": 4,
 "nbformat_minor": 4
}
